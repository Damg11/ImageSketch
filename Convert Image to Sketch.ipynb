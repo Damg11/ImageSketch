{
  "nbformat": 4,
  "nbformat_minor": 0,
  "metadata": {
    "colab": {
      "name": "Untitled1.ipynb",
      "provenance": [],
      "authorship_tag": "ABX9TyPcmQll+wXR1MeL42QupjH9",
      "include_colab_link": true
    },
    "kernelspec": {
      "name": "python3",
      "display_name": "Python 3"
    },
    "language_info": {
      "name": "python"
    }
  },
  "cells": [
    {
      "cell_type": "markdown",
      "metadata": {
        "id": "view-in-github",
        "colab_type": "text"
      },
      "source": [
        "<a href=\"https://colab.research.google.com/github/Damg11/ImageSketch/blob/main/Convert%20Image%20to%20Sketch.ipynb\" target=\"_parent\"><img src=\"https://colab.research.google.com/assets/colab-badge.svg\" alt=\"Open In Colab\"/></a>"
      ]
    },
    {
      "cell_type": "code",
      "execution_count": null,
      "metadata": {
        "id": "pbMLbuWoZrQv"
      },
      "outputs": [],
      "source": [
        "import cv2\n",
        "import matplotlib.pyplot as plt"
      ]
    },
    {
      "cell_type": "code",
      "source": [
        "img=cv2.imread(\"photo.jpg\")"
      ],
      "metadata": {
        "id": "B0ij2Jf-bWcO"
      },
      "execution_count": null,
      "outputs": []
    },
    {
      "cell_type": "code",
      "source": [
        "cv2.imshow('original image',img)\n",
        "cv2.waitKey(0)\n",
        "cv2.destroyAllWindows()"
      ],
      "metadata": {
        "id": "fr6F_-p7bZ69"
      },
      "execution_count": null,
      "outputs": []
    },
    {
      "cell_type": "code",
      "source": [
        "plt.imshow(img)\n",
        "plt.axis(False)\n",
        "plt.savefig('temp.png')\n",
        "plt.show()"
      ],
      "metadata": {
        "id": "0BBdVj2EbcgJ"
      },
      "execution_count": null,
      "outputs": []
    },
    {
      "cell_type": "code",
      "source": [
        "plt.imshow(img[:,:,::-1])\n",
        "plt.axis(False)\n",
        "plt.savefig('temp.png')\n",
        "plt.show()"
      ],
      "metadata": {
        "id": "qTMqsW2Vbe2t"
      },
      "execution_count": null,
      "outputs": []
    },
    {
      "cell_type": "code",
      "source": [
        "RGB_img = cv2.cvtColor(img, cv2.COLOR_BGR2RGB)\n",
        "plt.imshow(RGB_img)\n",
        "plt.axis(False)\n",
        "plt.savefig('temp.png')\n",
        "plt.show()"
      ],
      "metadata": {
        "id": "QQ9jmkyTbkKk"
      },
      "execution_count": null,
      "outputs": []
    },
    {
      "cell_type": "code",
      "source": [
        "# Convert to Grey Image\n",
        "grey_img=cv2.cvtColor(img, cv2.COLOR_BGR2GRAY)\n",
        "\n",
        "# Invert Image\n",
        "invert_img=cv2.bitwise_not(grey_img)\n",
        "#invert_img=255-grey_img\n",
        "\n",
        "# Blur image\n",
        "blur_img=cv2.GaussianBlur(invert_img, (111,111),0)\n",
        "\n",
        "# Invert Blurred Image\n",
        "invblur_img=cv2.bitwise_not(blur_img)\n",
        "#invblur_img=255-blur_img\n",
        "\n",
        "# Sketch Image\n",
        "sketch_img=cv2.divide(grey_img,invblur_img, scale=256.0)\n",
        "\n",
        "# Save Sketch \n",
        "cv2.imwrite('sketch.png', sketch_img)\n",
        "\n",
        "# Display sketch\n",
        "cv2.imshow('sketch image',sketch_img)\n",
        "cv2.waitKey(0)\n",
        "cv2.destroyAllWindows()"
      ],
      "metadata": {
        "id": "0Nufrh2Rbmlh"
      },
      "execution_count": null,
      "outputs": []
    },
    {
      "cell_type": "code",
      "source": [
        "plt.figure(figsize=(14,8))\n",
        "\n",
        "plt.subplot(1,2,1)\n",
        "plt.title('Original image', size=18)\n",
        "plt.imshow(RGB_img)\n",
        "plt.axis('off')\n",
        "\n",
        "plt.subplot(1,2,2)\n",
        "plt.title('Sketch', size=18)\n",
        "rgb_sketch=cv2.cvtColor(sketch_img, cv2.COLOR_BGR2RGB)\n",
        "plt.imshow(rgb_sketch)\n",
        "plt.axis('off')\n",
        "plt.savefig('temp1.png')\n",
        "plt.show()"
      ],
      "metadata": {
        "id": "0plRprxwbpgs"
      },
      "execution_count": null,
      "outputs": []
    },
    {
      "cell_type": "code",
      "source": [
        "def sketch_image(photo, k_size):\n",
        "    #Read Image\n",
        "    img=cv2.imread(photo)\n",
        "    \n",
        "    # Convert to Grey Image\n",
        "    grey_img=cv2.cvtColor(img, cv2.COLOR_BGR2GRAY)\n",
        "\n",
        "    # Invert Image\n",
        "    invert_img=cv2.bitwise_not(grey_img)\n",
        "    #invert_img=255-grey_img\n",
        "\n",
        "    # Blur image\n",
        "    blur_img=cv2.GaussianBlur(invert_img, (k_size,k_size),0)\n",
        "\n",
        "    # Invert Blurred Image\n",
        "    invblur_img=cv2.bitwise_not(blur_img)\n",
        "    #invblur_img=255-blur_img\n",
        "\n",
        "    # Sketch Image\n",
        "    sketch_img=cv2.divide(grey_img,invblur_img, scale=256.0)\n",
        "\n",
        "    # Save Sketch \n",
        "    cv2.imwrite('sketch.png', sketch_img)\n",
        "\n",
        "    # Display sketch\n",
        "    cv2.imshow('sketch image',sketch_img)\n",
        "    cv2.waitKey(0)\n",
        "    cv2.destroyAllWindows()\n",
        "    \n",
        "#Function call\n",
        "sketch_image(photo='image_1.png', k_size=7)"
      ],
      "metadata": {
        "id": "eSu8RTAMbr9u"
      },
      "execution_count": null,
      "outputs": []
    }
  ]
}